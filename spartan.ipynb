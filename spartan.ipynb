{
 "cells": [
  {
   "cell_type": "markdown",
   "id": "842132bf",
   "metadata": {
    "tags": [
     "hide_input"
    ]
   },
   "source": [
    "$$\n",
    "    \\newcommand{\\prover}{\\mathcal{P}}\n",
    "    \\newcommand{\\verifier}{\\mathcal{V}}\n",
    "    \\newcommand{\\Mat}[1]{\\mathbf{{#1}}}\n",
    "    \\newcommand{\\Fx}[1]{\\mathbb{F}^{(\\preceq {#1})}}\n",
    "    \\newcommand{\\mle}[1]{\\widetilde{#1}}\n",
    "    \\newcommand{\\eq}{\\mle{\\textsf{eq}}}\n",
    "$$"
   ]
  },
  {
   "cell_type": "markdown",
   "id": "47333c9e",
   "metadata": {},
   "source": [
    "# Spartan: Efficient and general-purpose zkSNARKs without trusted setup\n",
    "\n",
    "Authors: Srinath Setty <br/>\n",
    "ePrint: [2019/550](https://eprint.iacr.org/2019/550.pdf)"
   ]
  },
  {
   "cell_type": "markdown",
   "id": "51867040",
   "metadata": {},
   "source": [
    "## Introduction\n",
    "\n",
    "Spartan is a transparent [SNARK](https://en.wikipedia.org/wiki/Non-interactive_zero-knowledge_proof) for R1CS [constraint satisfaction problem](https://en.wikipedia.org/wiki/Constraint_satisfaction_problem). R1CS is a popular NP-Complete problem that enjoys extensive tooling support from the compiler community (or so I've been told).\n",
    "\n",
    "An R1CS instance consists of\n",
    "1. Three $n \\times m$ _sparse_ matrices $\\Mat{A}, \\Mat{B}, \\Mat{C} \\in \\mathbb{F}^{n\\times m}$ that encode the circuit/constraints representing the CSP, and \n",
    "2. An arbitrary $m$ dimensional vector $\\vec{w} \\in \\mathbb{F}^m$.\n",
    "\n",
    "The vector $\\vec{w}$ is _considered a witness_ to the NP statement:\n",
    "\n",
    "$$\n",
    "    (\\Mat{A}\\cdot \\vec{w}) {\\color{red} \\circ }(\\Mat{B}\\cdot \\vec{w}) \\stackrel{?}{=} \\Mat{C}\\cdot \\vec{w}\n",
    "$$\n",
    "\n",
    "if the above equation is satisfied. <u>Notation</u>: ${\\color{red} \\circ }$ is the Hadamard (element wise) product. (R1CS captures arithmetic circuits with fan-in $2$ multiplication gates, and arbitrary fan-in addition gates.)\n",
    "\n",
    "Without loss of generality, we assume $m = n$ in the rest of the document and treat $\\Mat{A},\\Mat{B},\\Mat{C} \\in \\mathbb{F}^{m\\times m}$, and $\\vec{w} \\in \\mathbb{F}^m$ (if $m\\neq n$, then $\\Mat{A},\\Mat{B},\\Mat{C}$ and $\\vec{w}$ can be padded appropriately to get the desired result). Furthermore, a matrix $\\Mat{M} \\in \\mathbb{F}^{m\\times m}$ is defined to be _sparse_ if the number of non-zero entries, call it $\\ell$, is sublinear in $m^2$ (for example, say $\\ell \\in O(m)$).\n",
    "\n",
    "Spartan -- as described here -- is a public-coin Polynomial _Interactive_ Oracle Proof (PIOP) that can be converted into a SNARK using using Fiat-Shamir heuristics.  \n",
    "\n",
    "The remarkable features of Spartan are:\n",
    "* the prover's time is _strictly linear_ in $\\ell$, and \n",
    "* the verifier's time is polylogrithmic in $\\ell$, i.e., $O(\\log(\\ell)^c)$ for some fixed constant $c$. \n",
    "\n",
    "Note that in a typical use case (e.g. google's\n",
    "[zk-longfellow](https://github.com/google/longfellow-zk.git) for legacy identity\n",
    "verification), the value of $\\ell$ is of the order of $2^{20}$. Unless the\n",
    "prover time is linear (or at worst quasi-linear) in $\\ell$, it won't be\n",
    "computationally possible to build practical system on existing hardware (e.g., iPhone or Mac OSX)."
   ]
  },
  {
   "cell_type": "markdown",
   "id": "40bb4ce6",
   "metadata": {
    "jp-MarkdownHeadingCollapsed": true
   },
   "source": [
    "### Sumcheck: A protocol for $\\forall \\to \\exists$ quantifier reduction\n",
    "\n",
    "The goal of _any_ R1CS prover is to prove that _for all_ rows: $(\\Mat{A}\\cdot \\vec{w}){\\color{red} \\circ}(\\Mat{B}\\cdot \\vec{w}) - (\\Mat{C}\\cdot \\vec{w}) = 0$ holds. However, since the verifier's time is required to be poly-logarithmic in the witness length $m = |\\vec{w}|$, it cannot check the validity of each row individually! Therefore, the fist design choice in building any R1CS SNARK is to decide how to transform a _logical claim_ about \"**for all rows**\" to a claim about \"**for only a polylog number rows**,\" without sacrificing too much in soundness.\n",
    "\n",
    "The simplest strategy one could think of is that the verifier _randomly_ checks a polylog number of rows, say $\\log(m)^{\\kappa}$ rows for some integer $\\kappa$. This strategy, however, allows a malicious prover to cheat with probability $1 - \\frac{\\log(m)^\\kappa}{m} \\approx 1 - o(\\frac{1}{m})$ (for large $m$). This is unsatisfactory because for large values of $m$ (e.g., $m \\approx 2^{20}$), this allows the prover to cheat with almost certainty! Ideally, one would like the cheating probability to  grow -- at best -- poly-logarithmically in the size of the problem instance (ideally size of the witness), and be adjustable according to some security parameters $\\lambda$.\n",
    "\n",
    "Sumcheck [[LFKN'92](https://lance.fortnow.com/papers/files/ip.pdf)] is an elegant protocol for _reducing_ a claim about the _sum_ of **all** evaluations of a multivariate polynomial over a per-defined hypercube, to a claim about **one** random evaluation of the same polynomial by the verifier. In particular, if $f(\\vec{x}) \\in \\mathbb{F}^{(\\preceq d)}[x_1,\\cdots, x_s]$ is a $s$-variate polynomial with maximal individual degree $d$, then Sumcheck is a reduction from a claim of the form \n",
    "\n",
    "$$\n",
    "F \\stackrel{?}{=} \\sum_{\\vec{b} \\in \\{0,1\\}^s} f(\\vec{b})\n",
    "$$\n",
    "\n",
    "to a claim of the form \n",
    "\n",
    "$$\n",
    "G \\stackrel{?}{=} f(r_1,\\cdots, r_s)\\quad \\text{where}\\; r_i \\xleftarrow{\\$} \\mathbb{F}\n",
    "$$\n",
    "\n",
    "The soundness loss (i.e., prover's cheating probability) in the above reduction is $1 - \\left(1 - \\frac{d}{|\\mathbb{F}|} \\right)^s \\approx s \\cdot \\frac{d}{|\\mathbb{F}|}$. \n",
    "\n",
    "Spartan's meta strategy is to reduce an R1CS claim to a Sumcheck claim with $s = O(\\log |m|)$ and $d \\leq 3$. Unlike the random row selection strategy discussed before, Sumcheck provides much better soundness guarantees."
   ]
  },
  {
   "cell_type": "markdown",
   "id": "bb1b71ba",
   "metadata": {},
   "source": [
    "### Spartan Attempt-0\n",
    "\n",
    "There are two challenges in (Karp) reducing an R1CS instance into a Sumcheck instance: One for the prover and one for the verifier-\n",
    "1. **For Prover**: How to arithmetize an R1CS instance such that the total cost of proof generation is _concretely_ at-worst quasi-linear in the witness size $m$ (not $m^2$, which is the size of matrices $\\Mat{A}, \\Mat{B},$ and $\\Mat{C}$ ). \n",
    "2. **For Verifier**: How to validate the claim  $G \\stackrel{?}{=} f(r_1,\\cdots, r_s)$ in polylog $m$ time. Note that if $s = \\lceil\\log m \\rceil$, then $f$ has $O(2^s) = O(m)$ coefficients and directly evaluating $f$ requires at least reading all the coefficients of $f$, which can't be made sublinear in $m$.\n",
    "\n",
    "In Spartan, the challenge faced by the Prover is addressed by exploiting the sparse nature of R1CS matrices. In particular, if matrices $\\Mat{A}, \\Mat{B},$ and $\\Mat{C}$ have $O(m)$ non-zero coefficients, then Spartan specifies an arithmetization procedure that only has $O(m)$ time complexity instead of $O(m^2)$. For the verifier, Spartan relies on a Polynomial Commitment Scheme (PCS) such as [WHIR](https://eprint.iacr.org/2024/1586) to bring down the verifier's cost to sublinear time complexity."
   ]
  },
  {
   "cell_type": "markdown",
   "id": "9fd6c9d7",
   "metadata": {},
   "source": [
    "#### Matrix Vector Arithmetization\n",
    "\n",
    "Let $s = \\lceil \\log m \\rceil$ and define $[m] := \\{ 0, \\cdots, m-1 \\}$. Given an index $k \\in [m]$ let $\\vec{k} \\in \\{0,1\\}^s$ denote the binary decomposition of $k$ according to some fixed convention (e.g., MSB first). **Nota Bene**:  $\\vec{k}$ is an ordered tuple, while $k$ (without arrow on head) is a non-negative integer less than $m$. (For example, if $m = 13$, then $s = 4$ and $\\vec{3} := (0, 0, 1, 1 )$ according to MSB first decomposition.)\n",
    "\n",
    "Given a matrix $ \\Mat{M} \\in \\mathbb{F}^{m\\times m} $, it's $(i,j)$-th entry $\\Mat{M}[i,j]$ can be interpreted as the _value_ of the unique multilinear polynomial $\\mle{M}(\\vec{x}, \\vec{y}) \\in \\Fx{1}[x_1,\\cdots, x_s;\\;y_1,\\cdots, y_s]$, i.e., \n",
    "\n",
    "$$\n",
    "\\mle{M}(\\vec{i},\\vec{j}) = \\Mat{M}[i,j]\n",
    "$$\n",
    "\n",
    "This unique multilinear polynomial (henceforth MLE), can be expressed in Lagrange basis as \n",
    "\n",
    "$$\n",
    "\\mle{M}(\\vec{x},\\vec{y}) := \\sum_{i \\in [m]}\\sum_{j \\in [m]} \\Mat{M}[i,j]\\cdot\\eq(\\vec{x}, \\vec{i})\\cdot \\eq(\\vec{y}, \\vec{j})\n",
    "$$\n",
    "\n",
    "where $\\eq(\\vec{x}, \\vec{a}) \\in \\Fx{1}[x_1,\\cdots,x_s]$ is the Lagrange basis \n",
    "$$\n",
    "\\eq(\\vec{x}, \\vec{a}) := \\prod_{i \\in \\{1,\\cdots, s\\}} \\eq(x_i,a_i) = \\begin{cases} 1 & \\text{if}\\; \\vec{x} = \\vec{a} \\\\ 0 & \\text{otherwise}\\end{cases}\n",
    "$$\n",
    "\n",
    "Similarly, given the witness vector $\\vec{w} \\in \\mathbb{F}^m$, its MLE can be expressed as \n",
    "\n",
    "$$\n",
    "\\mle{w}(\\vec{y}) = \\sum_{ i \\in [m]} \\vec{w}[i]\\cdot \\eq(\\vec{y}, \\vec{i}) \\in \\Fx{1}[y_1,\\cdots,y_s]\n",
    "$$\n",
    "\n",
    "Given this arithmetization, notice that $\\forall (i,j) \\in [m]\\times[m]$:\n",
    "\n",
    "$$\n",
    " \\Mat{M}[i,j]\\cdot \\vec{w}[j] = \\mle{M}(\\vec{i}, \\vec{j})\\cdot \\mle{w}(\\vec{j})\n",
    "$$"
   ]
  },
  {
   "cell_type": "markdown",
   "id": "14d6df56",
   "metadata": {},
   "source": [
    "#### R1CS Arithmetization\n",
    "\n",
    "**Theorem**\n",
    ">\n",
    "> Given the Matrix-Vector arithmetization over the boolean hypercube $\\mathcal{B}_s := \\{0,1\\}^s$ as described above, an R1CS instance $ (\\Mat{A},\\Mat{B},\\Mat{C}, \\vec{w}) $ with constraint equation\n",
    "> $$\n",
    "    (\\Mat{A}\\cdot \\vec{w}) \\circ (\\Mat{B}\\cdot \\vec{w}) \\stackrel{?}{=} \\Mat{C}\\cdot \\vec{w} $$\n",
    ">\n",
    ">is satisfiable if and only if the following polynomial $\\hat{f}(\\vec{x}) \\in \\Fx{2}[x_1,\\cdots,x_s]$ is identically zero for all values of $\\vec{x} \\in \\mathcal{B}_s$:\n",
    "$$\n",
    "\\hat{f}(\\vec{x}) := \\left( \\sum_{y \\in [m]} \\widetilde{A}(\\vec{x}, \\vec{y})\\cdot \\mle{w}(\\vec{y}) \\right )\\cdot \\left( \\sum_{y \\in [m]} \\widetilde{B}(\\vec{x}, \\vec{y})\\cdot \\mle{w}(\\vec{y}) \\right ) - \\left( \\sum_{y \\in [m]} \\widetilde{C}(\\vec{x}, \\vec{y})\\cdot \\mle{w}(\\vec{y}) \\right ) \n",
    "$$\n",
    ">\n",
    ">\n",
    "\n",
    "**Proof**\n",
    "\n",
    "> $(\\Rightarrow)$:\n",
    "> If the R1CS instance is satisfiable, then $$\n",
    "\\forall i \\in [m]: \\quad \\left(\\sum_{j \\in [m]}\\Mat{A}[i,j]\\cdot \\vec{w}[j]\\right)\\cdot\\left(\\sum_{j \\in [m]}\\Mat{B}[i,j]\\cdot \\vec{w}[j]\\right) - \\left(\\sum_{j \\in [m]}\\Mat{C}[i,j]\\cdot \\vec{w}[j] \\right) = 0 $$\n",
    "> By construction, $\\forall (i,j) \\in [m]\\times[m]: \\mle{M}(\\vec{i}, \\vec{j})\\cdot \\mle{w}(\\vec{j}) = \\Mat{M}[i,j]\\cdot \\vec{w}[j]$, therefore $$ \\begin{aligned}\n",
    "\\forall i \\in [m]:\\quad \\hat{f}(\\vec{i}) &= \\left(\\sum_{j \\in [m]} \\widetilde{A}(\\vec{i}, \\vec{j})\\cdot \\mle{w}(\\vec{j}) \\right )\\cdot \\left( \\sum_{j \\in [m]} \\widetilde{B}(\\vec{i}, \\vec{j})\\cdot \\mle{w}(\\vec{j}) \\right ) - \\left( \\sum_{j \\in [m]} \\widetilde{C}(\\vec{i}, \\vec{j})\\cdot \\mle{w}(\\vec{i}) \\right ) \\\\ \n",
    "&= \\left(\\sum_{j \\in [m]}\\Mat{A}[i,j]\\cdot \\vec{w}[j]\\right)\\cdot\\left(\\sum_{j \\in [m]}\\Mat{B}[i,j]\\cdot \\vec{w}[j]\\right) - \\left(\\sum_{j \\in [m]}\\Mat{C}[i,j]\\cdot \\vec{w}[j] \\right) = 0\\end{aligned}$$ \n",
    "\n",
    ">\n",
    "> $(\\Leftarrow)$: Given four multilinear polynomials $(\\mle{A}, \\mle{B}, \\mle{C}, \\mle{w})$, that satisfies\n",
    "> $f(\\vec{i}) = 0$ for all $i \\in [m]$, our goal is to prove that this corresponds to an R1CS $(\\Mat{A}, \\Mat{B}, \\Mat{C}, \\vec{w})$. Since $\\forall i \\in [m]: f(\\vec{i}) = 0$ implies there exist $m$ equations of the form: $$0 = \\left(\\sum_{j \\in [m]}\\mle{A}(\\vec{i},\\vec{j})\\cdot\\mle{w}(\\vec{j})\\right)\\cdot \\left(\\sum_{j \\in [m]}\\mle{B}(\\vec{i},\\vec{j})\\cdot\\mle{w}(\\vec{j})\\right) - \\left(\\sum_{j \\in [m]}\\mle{C}(\\vec{i},\\vec{j})\\cdot\\mle{w}(\\vec{j})\\right) $$\n",
    ">\n",
    ">Once again by construction, these $m$ equations can be interpreted as a satisfiable Matrix-Vector product equation for R1CS.\n",
    "\n",
    "\n",
    "For notational convenience, the following multilinear polynomials are defined over $\\Fx{1}[x_1,\\cdots,x_s]$\n",
    "\n",
    "**Notation**\n",
    "> \n",
    "> \n",
    "> $$ \\begin{aligned} \n",
    "\\overline{A}(\\vec{x}) &:= \\sum_{\\vec{y} \\in \\{0,1\\}^s}\\mle{A}(\\vec{x}, \\vec{y})\\cdot \\mle{w}(\\vec{y}) \\\\\n",
    "\\overline{B}(\\vec{x}) &:= \\sum_{\\vec{y} \\in \\{0,1\\}^s}\\mle{B}(\\vec{x}, \\vec{y})\\cdot \\mle{w}(\\vec{y}) \\\\\n",
    "\\overline{C}(\\vec{x}) &:= \\sum_{\\vec{y} \\in \\{0,1\\}^s}\\mle{C}(\\vec{x}, \\vec{y})\\cdot \\mle{w}(\\vec{y}) \n",
    "\\end{aligned}$$\n",
    "\n",
    "and, in this notation: $$\\hat{f}(\\vec{x}) = \\overline{A}(\\vec{x})\\cdot\\overline{B}(\\vec{x}) - \\overline{C}(\\vec{x}) \\in \\Fx{2}[x_1,\\cdots, x_s]$$\n"
   ]
  },
  {
   "cell_type": "markdown",
   "id": "fc651cd1-eac6-4ca0-a381-579e6214c3ff",
   "metadata": {},
   "source": [
    "Based on the theorem before, it's tempting to think that a verifier could just use [Schwartz-Zippel](https://en.wikipedia.org/wiki/Schwartz%E2%80%93Zippel_lemma) lemma to randomly sample $\\vec{r} \\xleftarrow{\\$} \\mathbb{F}^s$ and check if \n",
    "\n",
    "$$\n",
    "\\hat{f}(\\vec{r}) = \\overline{A}(\\vec{r})\\cdot \\overline{B}(\\vec{r}) - \\overline{C}(\\vec{r}) \\stackrel{?}{=} 0\n",
    "$$\n",
    "\n",
    "(To evaluate validation claims about the values of $\\overline{A}(\\vec{r}), \\overline{B}(\\vec{r}),$  and $\\overline{C}(\\vec{r})$ the prover and verifier could just run three copies of sumcheck over the same _same verifier challenges_ $\\vec{r}$.)\n",
    "\n",
    "This however does not work! The claim that $\\hat{f}(\\vec{x}) = 0$, is only valid over the boolean hypercube $\\{0,1\\}^s$, not for any randomly sampled point $\\vec{r}$ from the entire domain $\\mathbb{F}^s$.\n",
    "\n",
    "Spartan solves this problem by multi-linearizing $\\hat{f}(\\vec{x})$. Given, $\\hat{f} \\in \\Fx{2}(\\vec{x})$ consider another polynomial $\\mathcal{Q}(\\vec{\\tau})$ with the following properties:\n",
    "1. $\\mathcal{Q}(\\vec{\\tau})$ is multilinear, i.e., $\\mathcal{Q}(\\vec{\\tau}) \\in \\Fx{1}[\\tau_1,\\cdots, \\tau_s]$, and\n",
    "2. Value of $\\hat{f}$ and $\\mathcal{Q}$ match exactly on the boolean hypercube, i.e., $\\forall \\vec{b} \\in \\{0,1\\}^s:\\quad \\mathcal{Q}(\\vec{b}) = \\hat{f}(\\vec{b})$\n",
    "\n",
    "Since $\\mathcal{Q}$ is multilinear, it's easy to explicitly construct $\\mathcal{Q}$ from $\\hat{f}$ using Langrange interpolation as follows:\n",
    "\n",
    "$$\n",
    "\\mathcal{Q}(\\vec{\\tau}) := \\sum_{\\vec{x} \\in \\{0,1\\}^s} \\hat{f}(\\vec{x})\\cdot \\eq(\\vec{b}, \\vec{\\tau}) \\in \\Fx{1}[\\tau_1,\\cdots, \\tau_s]\n",
    "$$\n",
    "\n",
    "Based on previous theorem, an R1CS instance is a satisfying instance _if and only if_ $\\hat{f}(\\vec{x})$ is **identically zero** over the boolean hypercube $\\{0,1\\}^s$. Extending this result to $\\mathcal{Q}(\\vec{\\tau})$, its easy to see that $\\mathcal{Q}(\\vec{\\tau})$ is an arithmetization of a satisfying R1CS instance, _if and only if_ $\\mathcal{Q}(\\vec{\\tau})$ is _the_ **identically zero** polynomial $\\mathcal{Q}(\\vec{\\tau}) = 0 \\in \\Fx{1}[\\tau_1,\\cdots,\\tau_s]$."
   ]
  },
  {
   "cell_type": "markdown",
   "id": "d0cfaa52",
   "metadata": {},
   "source": [
    "\n",
    "![Spartan Attempt 0](./spartan/Spartan-0.drawio.svg)"
   ]
  },
  {
   "cell_type": "markdown",
   "id": "39c747de-a049-4cdf-9f3c-ce5061f8b140",
   "metadata": {},
   "source": [
    "\n",
    "![Spartan Attempt 0](./spartan/Spartan-0.drawio.svg)"
   ]
  },
  {
   "cell_type": "markdown",
   "id": "6384c94d",
   "metadata": {},
   "source": [
    "For example, if \n",
    "$$\n",
    "    M := \\begin{pmatrix} 1& 0 & 0 & 0 \\\\ 0 & 2 & 0 & 0 \\\\ 0& 0 & 3 & 0 \\\\ 0 & 0 & 0 & 4 \\end{pmatrix}\n",
    "$$\n",
    "\n",
    "then $s = 2$ and $\\mle{M}(\\vec{x}, \\vec{y}) \\in  \\Fx{1}[x_1, x_2;\\;y_1, y_2]$ is given by\n",
    "\n",
    "$$\n",
    "    \\begin{aligned}\n",
    "    \\mle{M} (\\vec{0}, \\vec{0}) &:= \\mle{M}\\left ((0,0),(0,0) \\right ) &= 1 \\\\\n",
    "    \\mle{M} (\\vec{1}, \\vec{1}) &:= \\mle{M}\\left ((0,1),(0,1) \\right ) &= 2 \\\\\n",
    "    \\mle{M} (\\vec{2}, \\vec{2}) &:= \\mle{M}\\left ((1,0),(1,0) \\right ) &= 3 \\\\\n",
    "    \\mle{M} (\\vec{3}, \\vec{3}) &:= \\mle{M}\\left ((1,1),(1,1) \\right ) &= 4 \\\\\n",
    "    \\mle{M} (\\vec{\\_}, \\vec{\\_}) &:= \\mle{M}\\left (\\_,\\_ \\right )  &= 0 \\\\\n",
    "    \\end{aligned}\n",
    "$$\n",
    "\n",
    "which expressed in lagrange basis is\n",
    "\n",
    "$$\n",
    "\\begin{aligned}\n",
    "    \\mle{M}(\\vec{x}, \\vec{y}) &:= \\eq(\\vec{x},\\vec{0})\\cdot\\eq(\\vec{y},\\vec{0}) \\\\\n",
    "    &\\quad + 2\\cdot\\eq(\\vec{x},\\vec{1})\\cdot\\eq(\\vec{y},\\vec{1}) \\\\\n",
    "    &\\quad + 3\\cdot\\eq(\\vec{x},\\vec{2})\\cdot\\eq(\\vec{y},\\vec{2}) \\\\\n",
    "    &\\quad + 4\\cdot\\eq(\\vec{x},\\vec{3})\\cdot\\eq(\\vec{y},\\vec{3})\n",
    "\\end{aligned}\n",
    "$$\n",
    "\n",
    "See  [Arithmetization in Sagemath](#Arithmetization-in-Sagemath) section for more examples."
   ]
  },
  {
   "cell_type": "markdown",
   "id": "9d08ccb1",
   "metadata": {},
   "source": [
    "### Spartan Full\n",
    "\n",
    "\n",
    "![Spartan Sumcheck-1](./spartan/Spartan-Full-SCHK-1.drawio.svg)"
   ]
  },
  {
   "cell_type": "markdown",
   "id": "c8dbfd98",
   "metadata": {},
   "source": [
    "![Spartan Sumcheck-2](./spartan/Spartan-Full-SCHK-2.drawio.svg)"
   ]
  },
  {
   "cell_type": "markdown",
   "id": "441c2e76",
   "metadata": {},
   "source": [
    "## Sample Code"
   ]
  },
  {
   "cell_type": "code",
   "execution_count": 1,
   "id": "c3ea2a1b",
   "metadata": {
    "tags": [
     "hide_code",
     "hide_input"
    ]
   },
   "outputs": [],
   "source": [
    "import os\n",
    "import sys\n",
    "module_path = os.path.abspath(os.path.join('./sage-snark'))\n",
    "sys.path.insert(0, module_path)"
   ]
  },
  {
   "cell_type": "markdown",
   "id": "f8bf7200",
   "metadata": {},
   "source": [
    "### Arithmetization in Sagemath"
   ]
  },
  {
   "cell_type": "markdown",
   "id": "23561a96",
   "metadata": {},
   "source": [
    "The following code shows examples of Spartan like arithmetization over the prime field $\\mathbb{F} := 15\\cdot 2^{27} + 1$. It first generates a random R1CS instance from the [`utils.test_utils`](./utils/test_utils.py) package and then uses `matrix_multilinearize` method from [`utils.multivairates`](./utils/multivariates.py) to generate a multilinear polynomial whose coefficients are same as the Matrix elements."
   ]
  },
  {
   "cell_type": "code",
   "execution_count": 2,
   "id": "ed49bd80",
   "metadata": {},
   "outputs": [],
   "source": [
    "from utils.test_utils import R1CS\n",
    "from sage.rings.finite_rings.all import GF"
   ]
  },
  {
   "cell_type": "code",
   "execution_count": 3,
   "id": "8988f11e",
   "metadata": {},
   "outputs": [],
   "source": [
    "P = 15*(2**27) + 1  # Proth prime with nice multiplicative subgroups\n",
    "Fq = GF(P)\n",
    "\n",
    "# Create a random R1CS instance that's satisfiable\n",
    "r1cs_instance = R1CS.random_element(Fq, num_rows=5, num_columns=7)\n",
    "\n",
    "# Check the instance is satisfiable\n",
    "assert r1cs_instance.is_satisfiable()\n",
    "\n",
    "A = r1cs_instance.A\n",
    "B = r1cs_instance.B\n",
    "C = r1cs_instance.C\n",
    "w = r1cs_instance.w\n",
    "\n",
    "# Generate the minimal Spartan Multilinear polynomial.\n",
    "# The result is polynomial, and it's parent polynomial Ring\n",
    "# can be re-used with other Matrices\n",
    "Axy = r1cs_instance.a_tilde()\n",
    "Bxy = r1cs_instance.b_tilde()\n",
    "Cxy = r1cs_instance.c_tilde()\n",
    "wy = r1cs_instance.w_tilde()"
   ]
  },
  {
   "cell_type": "code",
   "execution_count": 4,
   "id": "d9bf6b6f",
   "metadata": {},
   "outputs": [
    {
     "name": "stdout",
     "output_type": "stream",
     "text": [
      "[         0          0  862786289  670997029          0          0          0]\n",
      "[         0  363902007          0 1528661209 1735235985          0          0]\n",
      "[1383893855  794229640          0  587001194          0          0          0]\n",
      "[1648618330 1381366040          0 2008755398 1260812489  346026311          0]\n",
      "[1447696198  603510201          0  820248144          0          0 1476567754]\n",
      "\n",
      "Multilinear extension: -564492350*X0*X1*X2*Y0*Y1*Y2 - 91625597*X0*X1*X2*Y0*Y1 - 17753892*X0*X1*X2*Y0*Y2 - 978629572*X0*X1*X2*Y1*Y2 - 563243624*X0*X1*Y0*Y1*Y2 + 749048451*X0*X2*Y0*Y1*Y2 + 482924722*X1*X2*Y0*Y1*Y2 - 802695915*X0*X1*X2*Y0 - 32492091*X0*X1*X2*Y1 - 257206183*X0*X1*Y0*Y1 + 1005549239*X0*X2*Y0*Y1 + 993643032*X1*X2*Y0*Y1 - 708548227*X0*X1*X2*Y2 + 861939889*X0*X1*Y0*Y2 - 758313926*X0*X2*Y0*Y2 + 579415709*X1*X2*Y0*Y2 - 123638318*X0*X1*Y1*Y2 - 38548335*X0*X2*Y1*Y2 + 868853667*X1*X2*Y1*Y2 + 378687523*X0*Y0*Y1*Y2 + 644811252*X1*Y0*Y1*Y2 + 693740687*X2*Y0*Y1*Y2 - 830294198*X0*X1*X2 - 41490082*X0*X1*Y0 + 480283990*X0*X2*Y0 - 579415709*X1*X2*Y0 + 598061814*X0*X1*Y1 + 297216566*X0*X2*Y1 - 332155500*X1*X2*Y1 - 656717459*X0*Y0*Y1 - 644811252*X1*Y0*Y1 - 157042520*X2*Y0*Y1 - 739147971*X0*X1*Y2 - 287539787*X0*X2*Y2 + 818324132*X1*X2*Y2 - 85872071*X0*Y0*Y2 + 589664215*X1*Y0*Y2 + 844185997*X2*Y0*Y2 - 872449696*X0*Y1*Y2 + 233414223*X1*Y1*Y2 - 239481601*X2*Y1*Y2 + 191789260*Y0*Y1*Y2 + 264724475*X0*X1 + 565569723*X0*X2 - 818324132*X1*X2 + 363902007*X0*Y0 - 589664215*X1*Y0 - 844185997*X2*Y0 - 862786289*X0*Y1 - 233414223*X1*Y1 - 297216566*X2*Y1 - 191789260*Y0*Y1 - 278029936*X0*Y2 + 629372066*X1*Y2 + 565569723*X2*Y2 - 862786289*Y1*Y2 - 629372066*X1 - 565569723*X2 + 862786289*Y1\n"
     ]
    }
   ],
   "source": [
    "print(f\"{A}\")\n",
    "print(f\"\\nMultilinear extension: {Axy}\")"
   ]
  },
  {
   "cell_type": "code",
   "execution_count": 5,
   "id": "49a73dd3",
   "metadata": {},
   "outputs": [
    {
     "name": "stdout",
     "output_type": "stream",
     "text": [
      "[1899159342          0          0  725642200 1353970357          0          0]\n",
      "[         0          0          0          0          0          0          0]\n",
      "[1614785031          0          0          0          0  465070893          0]\n",
      "[1625977449    7051138          0  619978520  167557115 1447523272 1530284875]\n",
      "[         0          0          0          0          0          0          0]\n",
      "\n",
      "Multilinear extension: 213599282*X0*X1*X2*Y0*Y1*Y2 + 777610500*X0*X1*X2*Y0*Y1 + 649040392*X0*X1*X2*Y0*Y2 + 94156758*X0*X1*X2*Y1*Y2 - 213599282*X0*X1*Y0*Y1*Y2 + 742434736*X0*X2*Y0*Y1*Y2 + 809024739*X1*X2*Y0*Y1*Y2 - 109965299*X0*X1*X2*Y0 - 102914161*X0*X1*X2*Y1 - 777610500*X0*X1*Y0*Y1 + 611535621*X0*X2*Y0*Y1 - 1003249410*X1*X2*Y0*Y1 + 388824288*X0*X1*X2*Y2 - 649040392*X0*X1*Y0*Y2 + 545188985*X0*X2*Y0*Y2 + 478598982*X1*X2*Y0*Y2 - 94156758*X0*X1*Y1*Y2 + 545188985*X0*X2*Y1*Y2 + 943669875*X1*X2*Y1*Y2 - 742434736*X0*Y0*Y1*Y2 - 809024739*X1*Y0*Y1*Y2 - 742434736*X2*Y0*Y1*Y2 + 102914161*X0*X1*X2 + 109965299*X0*X1*Y0 + 114106579*X0*X2*Y0 - 284374311*X1*X2*Y0 + 102914161*X0*X1*Y1 + 114106579*X0*X2*Y1 - 284374311*X1*X2*Y1 - 611535621*X0*Y0*Y1 + 1003249410*X1*Y0*Y1 - 611535621*X2*Y0*Y1 - 388824288*X0*X1*Y2 - 545188985*X0*X2*Y2 - 943669875*X1*X2*Y2 - 545188985*X0*Y0*Y2 - 478598982*X1*Y0*Y2 - 545188985*X2*Y0*Y2 - 545188985*X0*Y1*Y2 - 943669875*X1*Y1*Y2 - 545188985*X2*Y1*Y2 + 742434736*Y0*Y1*Y2 - 102914161*X0*X1 - 114106579*X0*X2 + 284374311*X1*X2 - 114106579*X0*Y0 + 284374311*X1*Y0 - 114106579*X2*Y0 - 114106579*X0*Y1 + 284374311*X1*Y1 - 114106579*X2*Y1 + 611535621*Y0*Y1 + 545188985*X0*Y2 + 943669875*X1*Y2 + 545188985*X2*Y2 + 545188985*Y0*Y2 + 545188985*Y1*Y2 + 114106579*X0 - 284374311*X1 + 114106579*X2 + 114106579*Y0 + 114106579*Y1 - 545188985*Y2 - 114106579\n"
     ]
    }
   ],
   "source": [
    "print(f\"{B}\")\n",
    "print(f\"\\nMultilinear extension: {Bxy}\")"
   ]
  },
  {
   "cell_type": "code",
   "execution_count": 6,
   "id": "5e2583d8",
   "metadata": {},
   "outputs": [
    {
     "name": "stdout",
     "output_type": "stream",
     "text": [
      "[ 350649728          0  376192936          0          0          0 1718883743]\n",
      "[         0          0 1930624839          0  499200548          0          0]\n",
      "[ 323014962          0  260615649          0          0  643821878          0]\n",
      "[  11344673 1572302390          0          0          0          0          0]\n",
      "[1355622065 1650340919 1679300880  644239644          0          0  627146471]\n",
      "\n",
      "Multilinear extension: 545354712*X0*X1*X2*Y0*Y1*Y2 + 401761230*X0*X1*X2*Y0*Y1 - 630040494*X0*X1*X2*Y0*Y2 + 257888216*X0*X1*X2*Y1*Y2 + 157278907*X0*X1*Y0*Y1*Y2 - 799267699*X0*X2*Y0*Y1*Y2 + 323512958*X1*X2*Y0*Y1*Y2 + 774661824*X0*X1*X2*Y0 + 164439885*X0*X1*X2*Y1 + 281724601*X0*X1*Y0*Y1 - 791670121*X0*X2*Y0*Y1 - 771428352*X1*X2*Y0*Y1 - 817442078*X0*X1*X2*Y2 + 335321640*X0*X1*Y0*Y2 - 868696791*X0*X2*Y0*Y2 - 321468258*X1*X2*Y0*Y2 + 45579440*X0*X1*Y1*Y2 - 206833576*X0*X2*Y1*Y2 - 685792355*X1*X2*Y1*Y2 + 96634080*X0*Y0*Y1*Y2 + 987119344*X1*Y0*Y1*Y2 + 382708233*X2*Y0*Y1*Y2 - 696623295*X0*X1*X2 - 479942970*X0*X1*Y0 - 645368582*X0*X2*Y0 - 322353620*X1*X2*Y0 + 159238930*X0*X1*Y1 - 215494525*X0*X2*Y1 - 235736294*X1*X2*Y1 + 108184290*X0*Y0*Y1 + 87942521*X1*Y0*Y1 + 709029039*X2*Y0*Y1 - 538179987*X0*X1*Y2 + 505771789*X0*X2*Y2 - 685278622*X1*X2*Y2 - 849850276*X0*Y0*Y2 + 616187112*X1*Y0*Y2 - 645368582*X2*Y0*Y2 - 96634080*X0*Y1*Y2 + 382324699*X1*Y1*Y2 + 623393042*X2*Y1*Y2 + 319925386*Y0*Y1*Y2 + 38979439*X0*X1 - 1004972337*X0*X2 + 685278622*X1*X2 + 350649728*X0*Y0 + 27634766*X1*Y0 + 645368582*X2*Y0 - 108184290*X0*Y1 - 87942521*X1*Y1 + 298135607*X2*Y1 - 25543208*Y0*Y1 + 849850276*X0*Y2 + 27634766*X1*Y2 - 1004972337*X2*Y2 + 350649728*Y0*Y2 - 319925386*Y1*Y2 - 350649728*X0 - 27634766*X1 + 1004972337*X2 - 350649728*Y0 + 25543208*Y1 - 350649728*Y2 + 350649728\n"
     ]
    }
   ],
   "source": [
    "print(f\"{C}\")\n",
    "print(f\"\\nMultilinear extension: {Cxy}\")"
   ]
  },
  {
   "cell_type": "code",
   "execution_count": 7,
   "id": "66ac314b",
   "metadata": {},
   "outputs": [
    {
     "name": "stdout",
     "output_type": "stream",
     "text": [
      "(1432726623, 810844130, 507505069, 1799530531, 1603677900, 846540183, 664799298)\n",
      "191696385*Y0*Y1*Y2 - 99357966*Y0*Y1 - 135255224*Y0*Y2 - 13657048*Y1*Y2 - 621882493*Y0 - 925221554*Y1 + 170951277*Y2 - 580539298\n"
     ]
    }
   ],
   "source": [
    "print(f\"{w}\")\n",
    "print(f\"{wy}\")"
   ]
  },
  {
   "cell_type": "code",
   "execution_count": 8,
   "id": "443ea1eb-3171-4f47-8066-53de9ae54bf9",
   "metadata": {},
   "outputs": [],
   "source": [
    "# Sample R1CS Instance. Taken from: https://emirsoyturk.medium.com/hello-arithmetization-55e57c8e5471\n",
    "\n",
    "AL = [\n",
    "     [0, 1, 0, 0, 0, 0],\n",
    "     [0, 0, 0, 1, 0, 0],\n",
    "     [0, 1, 0, 0, 1, 0],\n",
    "     [5, 0, 0, 0, 0, 1]\n",
    "    ]\n",
    "\n",
    "BL = [\n",
    "     [0, 1, 0, 0, 0, 0],\n",
    "     [0, 1, 0, 0, 0, 0],\n",
    "     [1, 0, 0, 0, 0, 0],\n",
    "     [1, 0, 0, 0, 0, 0]\n",
    "    ]\n",
    "\n",
    "CL = [\n",
    "     [0, 0, 0, 1, 0, 0],\n",
    "     [0, 0, 0, 0, 1, 0],\n",
    "     [0, 0, 0, 0, 0, 1],\n",
    "     [0, 0, 1, 0, 0, 0]\n",
    "    ]\n",
    "\n",
    "WL = [1, 3, 35, 9, 27, 30]"
   ]
  },
  {
   "cell_type": "code",
   "execution_count": 9,
   "id": "6c34d5a7",
   "metadata": {},
   "outputs": [],
   "source": [
    "def compute_y_sum(poly, y_dim):\n",
    "    gens = poly.parent().gens()\n",
    "    skip_len = len(gens) - Integer(y_dim).bit_length()\n",
    "    assert skip_len >= 0\n",
    "\n",
    "    skip_vars = gens[:skip_len]\n",
    "    return hypercube_sum(poly, skip_vars)"
   ]
  },
  {
   "cell_type": "code",
   "execution_count": 10,
   "id": "8837f666-82da-49d5-9b23-6c9c4a732fb2",
   "metadata": {},
   "outputs": [
    {
     "ename": "NameError",
     "evalue": "name 'hadamard_product' is not defined",
     "output_type": "error",
     "traceback": [
      "\u001b[31m---------------------------------------------------------------------------\u001b[39m",
      "\u001b[31mNameError\u001b[39m                                 Traceback (most recent call last)",
      "\u001b[36mCell\u001b[39m\u001b[36m \u001b[39m\u001b[32mIn[10]\u001b[39m\u001b[32m, line 18\u001b[39m\n\u001b[32m     11\u001b[39m cw = C*w;\n\u001b[32m     13\u001b[39m \u001b[38;5;66;03m# print(f\"W = {w}\")\u001b[39;00m\n\u001b[32m     14\u001b[39m \u001b[38;5;66;03m# print(f\"A*W = {aw}\")\u001b[39;00m\n\u001b[32m     15\u001b[39m \u001b[38;5;66;03m# print(f\"B*W = {bw}\")\u001b[39;00m\n\u001b[32m     16\u001b[39m \u001b[38;5;66;03m# print(f\"C*W = {cw}\")\u001b[39;00m\n\u001b[32m---> \u001b[39m\u001b[32m18\u001b[39m \u001b[38;5;28;01massert\u001b[39;00m \u001b[38;5;28mlist\u001b[39m(cw) == \u001b[43mhadamard_product\u001b[49m(aw, bw)\n",
      "\u001b[31mNameError\u001b[39m: name 'hadamard_product' is not defined"
     ]
    }
   ],
   "source": [
    "P = 15*(2**27) + 1;\n",
    "assert is_prime(P)\n",
    "Fp = GF(P)\n",
    "\n",
    "A = Matrix(Fp, AL)\n",
    "B = Matrix(Fp, BL)\n",
    "C = Matrix(Fp, CL)\n",
    "w = vector(Fp, WL);\n",
    "aw = A*w;\n",
    "bw = B*w;\n",
    "cw = C*w;\n",
    "\n",
    "# print(f\"W = {w}\")\n",
    "# print(f\"A*W = {aw}\")\n",
    "# print(f\"B*W = {bw}\")\n",
    "# print(f\"C*W = {cw}\")\n",
    "\n",
    "assert list(cw) == hadamard_product(aw, bw)"
   ]
  },
  {
   "cell_type": "code",
   "execution_count": null,
   "id": "497b4e73-82b7-4a45-99a9-af92332008a7",
   "metadata": {},
   "outputs": [],
   "source": [
    "Axy = matrix_multilinearize(A);\n",
    "Bxy = matrix_multilinearize(B, Axy.parent())\n",
    "Cxy = matrix_multilinearize(C, Axy.parent())\n",
    "\n",
    "xgens_count = Integer(A.nrows()).bit_length()\n",
    "xgens = Axy.parent().gens()[:xgens_count];\n",
    "ygens = Axy.parent().gens()[xgens_count:];\n",
    "\n",
    "Wy = vec_multilinearize(w, ygens)\n",
    "\n",
    "Ax = compute_y_sum(Axy*Wy, 6)\n",
    "Bx = compute_y_sum(Bxy*Wy, 6)\n",
    "Cx = compute_y_sum(Cxy*Wy, 6)\n",
    "\n",
    "expected = Ax*Bx - Cx\n",
    "\n",
    "for i in range(A.nrows()):\n",
    "    d = bit_decomp_dict(i, xgens)\n",
    "    e = expected.subs(d)\n",
    "    assert e == 0\n"
   ]
  }
 ],
 "metadata": {
  "kernelspec": {
   "display_name": "SageMath 10.6",
   "language": "sage",
   "name": "sagemath-10.6"
  },
  "language_info": {
   "codemirror_mode": {
    "name": "ipython",
    "version": 3
   },
   "file_extension": ".py",
   "mimetype": "text/x-python",
   "name": "python",
   "nbconvert_exporter": "python",
   "pygments_lexer": "ipython3",
   "version": "3.12.5"
  }
 },
 "nbformat": 4,
 "nbformat_minor": 5
}
