{
 "cells": [
  {
   "cell_type": "code",
   "execution_count": 118,
   "id": "82963042",
   "metadata": {},
   "outputs": [],
   "source": [
    "import os\n",
    "import sys\n",
    "module_path = os.path.abspath(os.path.join('./sage-snark'))\n",
    "sys.path.insert(0, module_path)\n",
    "\n",
    "from IPython.core.display import SVG\n",
    "\n",
    "from spartan.utils import eq_bit_decomp, hadamard_product, hypercube_sum, bit_decomp_dict"
   ]
  },
  {
   "cell_type": "code",
   "execution_count": 119,
   "id": "3f8c5ec2",
   "metadata": {},
   "outputs": [],
   "source": [
    "from sage.matrix.all import Matrix\n",
    "from sage.rings.integer import Integer\n",
    "from sage.rings.polynomial.all import PolynomialRing, Polynomial\n",
    "from sage.modules.all import vector\n",
    "from sage.rings.rational_field import QQ\n",
    "from typing import List, Any"
   ]
  },
  {
   "cell_type": "code",
   "execution_count": 120,
   "id": "443ea1eb-3171-4f47-8066-53de9ae54bf9",
   "metadata": {},
   "outputs": [],
   "source": [
    "# Sample R1CS Instance. Taken from: https://emirsoyturk.medium.com/hello-arithmetization-55e57c8e5471\n",
    "\n",
    "AL = [\n",
    "     [0, 1, 0, 0, 0, 0],\n",
    "     [0, 0, 0, 1, 0, 0],\n",
    "     [0, 1, 0, 0, 1, 0],\n",
    "     [5, 0, 0, 0, 0, 1]\n",
    "    ]\n",
    "\n",
    "BL = [\n",
    "     [0, 1, 0, 0, 0, 0],\n",
    "     [0, 1, 0, 0, 0, 0],\n",
    "     [1, 0, 0, 0, 0, 0],\n",
    "     [1, 0, 0, 0, 0, 0]\n",
    "    ]\n",
    "\n",
    "CL = [\n",
    "     [0, 0, 0, 1, 0, 0],\n",
    "     [0, 0, 0, 0, 1, 0],\n",
    "     [0, 0, 0, 0, 0, 1],\n",
    "     [0, 0, 1, 0, 0, 0]\n",
    "    ]\n",
    "\n",
    "WL = [1, 3, 35, 9, 27, 30]"
   ]
  },
  {
   "cell_type": "code",
   "execution_count": 121,
   "id": "f5cb26ae",
   "metadata": {
    "scrolled": true
   },
   "outputs": [],
   "source": [
    "def matrix_multilinearize(mat : Matrix, PolyRing : PolynomialRing = None) -> Polynomial:\n",
    "    ncols_bitlen = Integer(mat.ncols()).bit_length();\n",
    "    nrows_bitlen = Integer(mat.nrows()).bit_length()\n",
    "    row_vars = [f\"X{i}\" for i in range(nrows_bitlen)]\n",
    "    col_vars = [f\"Y{i}\" for i in range(ncols_bitlen)]\n",
    "    names = row_vars + col_vars\n",
    "    var_count = ncols_bitlen + nrows_bitlen\n",
    "    PolyRing = PolyRing or PolynomialRing(mat.base_ring(), var_count, names)\n",
    "    x_vars = list(PolyRing.gens()[:nrows_bitlen])\n",
    "    y_vars = list(PolyRing.gens()[nrows_bitlen:])\n",
    "\n",
    "    poly = PolyRing(0)\n",
    "\n",
    "    x_lagrange_basis = [eq_bit_decomp(PolyRing, i, x_vars) for i in range(2**nrows_bitlen)]\n",
    "    y_lagrange_basis = [eq_bit_decomp(PolyRing, j, y_vars) for j in range(2**ncols_bitlen)]\n",
    "\n",
    "    # print(f\"X-Lagrange: {x_lagrange_basis}\")\n",
    "    # print(f\"Y-Lagrange: {y_lagrange_basis}\")\n",
    "\n",
    "    for i in range(mat.nrows()):\n",
    "        for j in range(mat.ncols()):\n",
    "            poly += mat[i][j] * x_lagrange_basis[i] * y_lagrange_basis[j]\n",
    "\n",
    "    return poly\n",
    "\n",
    "m = Matrix(QQ, [[7,2,2],[2,3,4],[3,1,1],[7,4,5],[8,8,4]])\n",
    "x1 = matrix_multilinearize(m)\n",
    "x2 = matrix_multilinearize(m, x1.parent())\n",
    "\n",
    "assert x1 == x2"
   ]
  },
  {
   "cell_type": "code",
   "execution_count": 122,
   "id": "bad3ed97-f2c6-4567-bda9-fb0a42caa1f1",
   "metadata": {},
   "outputs": [],
   "source": [
    "def vec_multilinearize(vec : List[Any], gens : List[Any]) -> Polynomial:\n",
    "    assert len(vec) <= 2**len(gens)\n",
    "    PolyRing = gens[0].parent()\n",
    "    result = PolyRing(0)\n",
    "\n",
    "    for (i,v) in enumerate(vec):\n",
    "        basis = eq_bit_decomp(PolyRing, i, gens)\n",
    "        result += v*basis\n",
    "    return result"
   ]
  },
  {
   "cell_type": "code",
   "execution_count": 123,
   "id": "6c34d5a7",
   "metadata": {},
   "outputs": [],
   "source": [
    "def compute_y_sum(poly, y_dim):\n",
    "    gens = poly.parent().gens()\n",
    "    skip_len = len(gens) - Integer(y_dim).bit_length()\n",
    "    assert skip_len >= 0\n",
    "\n",
    "    skip_vars = gens[:skip_len]\n",
    "    return hypercube_sum(poly, skip_vars)"
   ]
  },
  {
   "cell_type": "code",
   "execution_count": 124,
   "id": "8837f666-82da-49d5-9b23-6c9c4a732fb2",
   "metadata": {},
   "outputs": [],
   "source": [
    "P = 15*(2**27) + 1;\n",
    "assert is_prime(P)\n",
    "Fp = GF(P)\n",
    "\n",
    "A = Matrix(Fp, AL)\n",
    "B = Matrix(Fp, BL)\n",
    "C = Matrix(Fp, CL)\n",
    "w = vector(Fp, WL);\n",
    "aw = A*w;\n",
    "bw = B*w;\n",
    "cw = C*w;\n",
    "\n",
    "# print(f\"W = {w}\")\n",
    "# print(f\"A*W = {aw}\")\n",
    "# print(f\"B*W = {bw}\")\n",
    "# print(f\"C*W = {cw}\")\n",
    "\n",
    "assert list(cw) == hadamard_product(aw, bw)"
   ]
  },
  {
   "cell_type": "code",
   "execution_count": 125,
   "id": "497b4e73-82b7-4a45-99a9-af92332008a7",
   "metadata": {},
   "outputs": [],
   "source": [
    "Axy = matrix_multilinearize(A);\n",
    "Bxy = matrix_multilinearize(B, Axy.parent())\n",
    "Cxy = matrix_multilinearize(C, Axy.parent())\n",
    "\n",
    "xgens_count = Integer(A.nrows()).bit_length()\n",
    "xgens = Axy.parent().gens()[:xgens_count];\n",
    "ygens = Axy.parent().gens()[xgens_count:];\n",
    "\n",
    "Wy = vec_multilinearize(w, ygens)\n",
    "\n",
    "Ax = compute_y_sum(Axy*Wy, 6)\n",
    "Bx = compute_y_sum(Bxy*Wy, 6)\n",
    "Cx = compute_y_sum(Cxy*Wy, 6)\n",
    "\n",
    "expected = Ax*Bx - Cx\n",
    "\n",
    "for i in range(A.nrows()):\n",
    "    d = bit_decomp_dict(i, xgens)\n",
    "    e = expected.subs(d)\n",
    "    assert e == 0\n"
   ]
  },
  {
   "cell_type": "markdown",
   "id": "b5eefd66",
   "metadata": {},
   "source": [
    "![Spartan Attempt 0](./spartan/Spartan-0.drawio.svg)"
   ]
  }
 ],
 "metadata": {
  "kernelspec": {
   "display_name": "SageMath 10.6",
   "language": "sage",
   "name": "sagemath-10.6"
  },
  "language_info": {
   "codemirror_mode": {
    "name": "ipython",
    "version": 3
   },
   "file_extension": ".py",
   "mimetype": "text/x-python",
   "name": "python",
   "nbconvert_exporter": "python",
   "pygments_lexer": "ipython3",
   "version": "3.12.5"
  }
 },
 "nbformat": 4,
 "nbformat_minor": 5
}
