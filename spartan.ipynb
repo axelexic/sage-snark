{
 "cells": [
  {
   "cell_type": "markdown",
   "id": "842132bf",
   "metadata": {},
   "source": [
    "$$\n",
    "    \\newcommand{\\prover}{\\mathcal{P}}\n",
    "    \\newcommand{\\verifier}{\\mathcal{V}}\n",
    "    \\newcommand{\\Mat}[1]{\\mathbf{{#1}}}\n",
    "$$"
   ]
  },
  {
   "cell_type": "markdown",
   "id": "47333c9e",
   "metadata": {},
   "source": [
    "# Spartan: Efficient and general-purpose zkSNARKs without trusted setup\n",
    "\n",
    "Authors: Srinath Setty <br/>\n",
    "ePrint: [2019/550](https://eprint.iacr.org/2019/550.pdf)"
   ]
  },
  {
   "cell_type": "markdown",
   "id": "51867040",
   "metadata": {},
   "source": [
    "## Introduction\n",
    "\n",
    "Spartan is a transparent [SNARK](https://en.wikipedia.org/wiki/Non-interactive_zero-knowledge_proof) for R1CS [constraint satisfaction problem](https://en.wikipedia.org/wiki/Constraint_satisfaction_problem). R1CS is a popular NP-Complete problem that enjoys extensive tooling support from compiler community. \n",
    "\n",
    "An R1CS instance consists of\n",
    "1. Three $n \\times m$ _sparse_ matrices $A, B, C \\in \\mathbb{F}^{n\\times m}$ that encode the circuit/constraints representing the CSP, and \n",
    "2. An arbitrary $m$ dimensional vector $\\vec{w} \\in \\mathbb{F}^m$.\n",
    "\n",
    "The vector $\\vec{w}$ is _considered a witness_ to the NP statement if it satisfies the following relation:\n",
    "\n",
    "$$\n",
    "    (A\\cdot \\vec{w}) {\\color{red} \\circ }(B\\cdot \\vec{w}) = C\\cdot \\vec{w}\n",
    "$$\n",
    "\n",
    "where ${\\color{red} \\circ }$ is the Hadamard (element wise) product.\n",
    "\n",
    "Let $s = \\max\\{\\log_2(m), \\log_2(n) \\}$ and let $\\ell$ be the maximum number of non-zero elements in $A, B,$ or $C$ matrices. For matrices $A, B,$ or $C$ to be considered sparse, we further assume that $\\ell \\ll 2^s$.\n",
    "\n",
    "Spartan is a multivariate SNARK where \n",
    "* the prover's time and space requirement is _strictly linear_ in $\\ell$, and \n",
    "* the verifier time is $O(s)$, (i.e., polylog in $\\ell$). \n",
    "\n",
    "Note that in a typical use case (e.g. google's [zk-longfellow](https://github.com/google/longfellow-zk.git) for legacy identity verification), the value of $\\ell$ is of the order of $2^{25}$. Unless the prover time is linear (or at worse quasi-linear) in $\\ell$, it will be hard to build a practical system using current hardware.  "
   ]
  },
  {
   "cell_type": "markdown",
   "id": "bb1b71ba",
   "metadata": {},
   "source": [
    "### Spartan Attempt-0\n",
    "\n",
    "![Spartan Attempt 0](./spartan/Spartan-0.drawio.svg)"
   ]
  },
  {
   "cell_type": "markdown",
   "id": "9d08ccb1",
   "metadata": {},
   "source": [
    "### Spartan Full\n",
    "![Spartan Sumcheck-1](./spartan/Spartan-Full-SCHK-1.drawio.svg)"
   ]
  },
  {
   "cell_type": "markdown",
   "id": "c8dbfd98",
   "metadata": {},
   "source": [
    "![Spartan Sumcheck-2](./spartan/Spartan-Full-SCHK-2.drawio.svg)"
   ]
  },
  {
   "cell_type": "code",
   "execution_count": 1,
   "id": "82963042",
   "metadata": {
    "vscode": {
     "languageId": "python"
    }
   },
   "outputs": [],
   "source": [
    "import os\n",
    "import sys\n",
    "module_path = os.path.abspath(os.path.join('./sage-snark'))\n",
    "sys.path.insert(0, module_path)"
   ]
  },
  {
   "cell_type": "code",
   "execution_count": 2,
   "id": "3f8c5ec2",
   "metadata": {
    "vscode": {
     "languageId": "python"
    }
   },
   "outputs": [],
   "source": [
    "from sage.matrix.all import Matrix\n",
    "from sage.rings.integer import Integer\n",
    "from sage.rings.polynomial.all import PolynomialRing, Polynomial\n",
    "from sage.modules.all import vector\n",
    "\n",
    "from utils.multivariates import hadamard_product, hypercube_sum, bit_decomp_dict, matrix_multilinearize, vec_multilinearize\n",
    "from utils.test_utils import R1CS"
   ]
  },
  {
   "cell_type": "code",
   "execution_count": null,
   "id": "443ea1eb-3171-4f47-8066-53de9ae54bf9",
   "metadata": {
    "vscode": {
     "languageId": "python"
    }
   },
   "outputs": [],
   "source": [
    "# Sample R1CS Instance. Taken from: https://emirsoyturk.medium.com/hello-arithmetization-55e57c8e5471\n",
    "\n",
    "AL = [\n",
    "     [0, 1, 0, 0, 0, 0],\n",
    "     [0, 0, 0, 1, 0, 0],\n",
    "     [0, 1, 0, 0, 1, 0],\n",
    "     [5, 0, 0, 0, 0, 1]\n",
    "    ]\n",
    "\n",
    "BL = [\n",
    "     [0, 1, 0, 0, 0, 0],\n",
    "     [0, 1, 0, 0, 0, 0],\n",
    "     [1, 0, 0, 0, 0, 0],\n",
    "     [1, 0, 0, 0, 0, 0]\n",
    "    ]\n",
    "\n",
    "CL = [\n",
    "     [0, 0, 0, 1, 0, 0],\n",
    "     [0, 0, 0, 0, 1, 0],\n",
    "     [0, 0, 0, 0, 0, 1],\n",
    "     [0, 0, 1, 0, 0, 0]\n",
    "    ]\n",
    "\n",
    "WL = [1, 3, 35, 9, 27, 30]"
   ]
  },
  {
   "cell_type": "code",
   "execution_count": null,
   "id": "6c34d5a7",
   "metadata": {
    "vscode": {
     "languageId": "python"
    }
   },
   "outputs": [],
   "source": [
    "def compute_y_sum(poly, y_dim):\n",
    "    gens = poly.parent().gens()\n",
    "    skip_len = len(gens) - Integer(y_dim).bit_length()\n",
    "    assert skip_len >= 0\n",
    "\n",
    "    skip_vars = gens[:skip_len]\n",
    "    return hypercube_sum(poly, skip_vars)"
   ]
  },
  {
   "cell_type": "code",
   "execution_count": null,
   "id": "8837f666-82da-49d5-9b23-6c9c4a732fb2",
   "metadata": {
    "vscode": {
     "languageId": "python"
    }
   },
   "outputs": [],
   "source": [
    "P = 15*(2**27) + 1;\n",
    "assert is_prime(P)\n",
    "Fp = GF(P)\n",
    "\n",
    "A = Matrix(Fp, AL)\n",
    "B = Matrix(Fp, BL)\n",
    "C = Matrix(Fp, CL)\n",
    "w = vector(Fp, WL);\n",
    "aw = A*w;\n",
    "bw = B*w;\n",
    "cw = C*w;\n",
    "\n",
    "# print(f\"W = {w}\")\n",
    "# print(f\"A*W = {aw}\")\n",
    "# print(f\"B*W = {bw}\")\n",
    "# print(f\"C*W = {cw}\")\n",
    "\n",
    "assert list(cw) == hadamard_product(aw, bw)"
   ]
  },
  {
   "cell_type": "code",
   "execution_count": null,
   "id": "497b4e73-82b7-4a45-99a9-af92332008a7",
   "metadata": {
    "vscode": {
     "languageId": "python"
    }
   },
   "outputs": [],
   "source": [
    "Axy = matrix_multilinearize(A);\n",
    "Bxy = matrix_multilinearize(B, Axy.parent())\n",
    "Cxy = matrix_multilinearize(C, Axy.parent())\n",
    "\n",
    "xgens_count = Integer(A.nrows()).bit_length()\n",
    "xgens = Axy.parent().gens()[:xgens_count];\n",
    "ygens = Axy.parent().gens()[xgens_count:];\n",
    "\n",
    "Wy = vec_multilinearize(w, ygens)\n",
    "\n",
    "Ax = compute_y_sum(Axy*Wy, 6)\n",
    "Bx = compute_y_sum(Bxy*Wy, 6)\n",
    "Cx = compute_y_sum(Cxy*Wy, 6)\n",
    "\n",
    "expected = Ax*Bx - Cx\n",
    "\n",
    "for i in range(A.nrows()):\n",
    "    d = bit_decomp_dict(i, xgens)\n",
    "    e = expected.subs(d)\n",
    "    assert e == 0\n"
   ]
  }
 ],
 "metadata": {
  "kernelspec": {
   "display_name": "SageMath 10.6",
   "language": "sage",
   "name": "sagemath-10.6"
  },
  "language_info": {
   "codemirror_mode": {
    "name": "ipython",
    "version": 3
   },
   "file_extension": ".py",
   "mimetype": "text/x-python",
   "name": "sage",
   "nbconvert_exporter": "python",
   "pygments_lexer": "ipython3",
   "version": "3.12.5"
  }
 },
 "nbformat": 4,
 "nbformat_minor": 5
}
