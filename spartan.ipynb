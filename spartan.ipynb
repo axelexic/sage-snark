{
 "cells": [
  {
   "cell_type": "markdown",
   "id": "842132bf",
   "metadata": {},
   "source": [
    "$$\n",
    "    \\newcommand{\\prover}{\\mathcal{P}}\n",
    "    \\newcommand{\\verifier}{\\mathcal{V}}\n",
    "    \\newcommand{\\Mat}[1]{\\mathbf{{#1}}}\n",
    "$$"
   ]
  },
  {
   "cell_type": "markdown",
   "id": "47333c9e",
   "metadata": {},
   "source": [
    "# Spartan: Efficient and general-purpose zkSNARKs without trusted setup\n",
    "\n",
    "Authors: Srinath Setty <br/>\n",
    "ePrint: [2019/550](https://eprint.iacr.org/2019/550.pdf)"
   ]
  },
  {
   "cell_type": "markdown",
   "id": "51867040",
   "metadata": {},
   "source": [
    "## Introduction\n",
    "\n",
    "Spartan is a transparent [SNARK](https://en.wikipedia.org/wiki/Non-interactive_zero-knowledge_proof) for R1CS [constraint satisfaction problem](https://en.wikipedia.org/wiki/Constraint_satisfaction_problem). R1CS is a popular NP-Complete problem that enjoys extensive tooling support from the compiler community (or so I've been told).\n",
    "\n",
    "An R1CS instance consists of\n",
    "1. Three $n \\times m$ _sparse_ matrices $A, B, C \\in \\mathbb{F}^{n\\times m}$ that encode the circuit/constraints representing the CSP, and \n",
    "2. An arbitrary $m$ dimensional vector $\\vec{w} \\in \\mathbb{F}^m$.\n",
    "\n",
    "The vector $\\vec{w}$ is _considered a witness_ to the NP statement if it satisfies the following relation:\n",
    "\n",
    "$$\n",
    "    (A\\cdot \\vec{w}) {\\color{red} \\circ }(B\\cdot \\vec{w}) = C\\cdot \\vec{w}\n",
    "$$\n",
    "\n",
    "where ${\\color{red} \\circ }$ is the Hadamard (element wise) product. (R1CS captures arithmetic circuits with fan-in $2$ multiplication gates, and arbitrary fan-in addition gates.)\n",
    "\n",
    "Without loss of generality, we assume $m = n$ in the rest of the document and treat $A,B,C \\in \\mathbb{F}^{m\\times m}$, and $w \\in \\mathbb{F}^m$ (if $m\\neq n$, then $A, B, C,$ and $w$ can be padded appropriately to get the desired result). Furthermore, a matrix $M \\in \\mathbb{F}^{m\\times m}$ is defined to be sparse if the number of non-zero entries, call it $\\ell$, is sublinear in $m^2$(for example, say $\\ell \\in \\Theta(m)$).\n",
    "\n",
    "Spartan -- as described here -- is the Polynomial Interactive Oracle Proof (PIOP) that can be converted into a SNARK using any suitable polynomial commitment scheme (PCS). \n",
    "\n",
    "The remarkable features of Spartan PIOP are:\n",
    "* the prover's time is _strictly linear_ in $\\ell$, and \n",
    "* the verifier time is polylogrithmic in $\\ell$, i.e., $O(\\log(\\ell)^c)$ for some fixed constant $c$. \n",
    "\n",
    "Note that in a typical use case (e.g. google's\n",
    "[zk-longfellow](https://github.com/google/longfellow-zk.git) for legacy identity\n",
    "verification), the value of $\\ell$ is of the order of $2^{25}$. Unless the\n",
    "prover time is linear (or at worst quasi-linear) in $\\ell$, it won't be\n",
    "possible to build a useful system."
   ]
  },
  {
   "cell_type": "markdown",
   "id": "40bb4ce6",
   "metadata": {
    "jp-MarkdownHeadingCollapsed": true
   },
   "source": [
    "### Sumcheck: A protocol for $\\forall \\to \\exists$ quantifier reduction\n",
    "\n",
    "The goal of _any_ R1CS prover is to prove that _for all_ rows: $(A\\cdot w)\\circ(B\\cdot w) - (C\\cdot w) = 0$ holds. However, since the verifier's time is required to be poly-logarithmic in the witness length $m := |w|$, it cannot check the validity of each row individually! Therefore, the fist design choice in building any R1CS SNARK is to decide how to transform a _logical claim_ about \"**for all** rows\" to a claim about \"**for only** a polylog number rows,\" without sacrificing too much in soundness.\n",
    "\n",
    "The simplest strategy one could think of is that the verifier _randomly_ checks a polylog number of rows, say $\\log(m)^{\\kappa}$ number of rows for some integer $\\kappa$. This strategy, however, allows a malicious prover to cheat with probability $1 - \\frac{\\log(m)^\\kappa}{m} \\approx 1 - o(\\frac{1}{m})$ (for large $m$). This is unsatisfactory because for large values of $m$ (say $m \\approx 2^{20}$), this strategy allows the prover to cheat with almost certainty! Ideally, one would like the cheating probability to  grow -- at best -- poly-logarithmically in the size of the problem instance (ideally size of witness), and be adjustable according to some security parameters $\\lambda$.\n",
    "\n",
    "Sumcheck [[LFKN'92](https://lance.fortnow.com/papers/files/ip.pdf)] is an elegant protocol for _reducing_ a claim about the _sum_ of **all** evaluations of a multivariate polynomial over a hypercube, to a claim about **one** random evaluation by the verifier. In particular if $f(\\vec{x}) \\in \\mathbb{F}^{(\\preceq d)}[x_1,\\cdots, x_\\mu]$ is a $\\mu$-variate polynomial with maximal individual degree $d$, then Sumcheck is a reduction from a claim of the form \n",
    "\n",
    "$$\n",
    "F \\stackrel{?}{=} \\sum_{\\vec{b} \\in \\{0,1\\}^\\mu} f(\\vec{b})\n",
    "$$\n",
    "\n",
    "to a claim of the form \n",
    "\n",
    "$$\n",
    "G \\stackrel{?}{=} f(r_1,\\cdots, r_\\mu)\n",
    "$$\n",
    "\n",
    "The soundness loss (i.e., the probability for prover to cheat) in the above reduction is $1 - (1 - \\frac{d}{|\\mathbb{F}|})^\\mu \\approx \\mu \\cdot \\frac{d}{|\\mathbb{F}|}$.\n",
    "\n",
    "For an R1CS instance of size $m$, Spartan tries to reduce the R1CS claim to a Sumcheck instance claim, where $\\mu = O(\\log |m|)$ and the individual degree of polynomials in the Sumcheck instance is $d \\leq 3$. "
   ]
  },
  {
   "cell_type": "markdown",
   "id": "bb1b71ba",
   "metadata": {},
   "source": [
    "### Spartan Attempt-0\n",
    "\n",
    "\n",
    "![Spartan Attempt 0](./spartan/Spartan-0.drawio.svg)"
   ]
  },
  {
   "cell_type": "markdown",
   "id": "9d08ccb1",
   "metadata": {},
   "source": [
    "### Spartan Full\n",
    "![Spartan Sumcheck-1](./spartan/Spartan-Full-SCHK-1.drawio.svg)"
   ]
  },
  {
   "cell_type": "markdown",
   "id": "c8dbfd98",
   "metadata": {},
   "source": [
    "![Spartan Sumcheck-2](./spartan/Spartan-Full-SCHK-2.drawio.svg)"
   ]
  },
  {
   "cell_type": "code",
   "execution_count": 1,
   "id": "82963042",
   "metadata": {},
   "outputs": [],
   "source": [
    "import os\n",
    "import sys\n",
    "module_path = os.path.abspath(os.path.join('./sage-snark'))\n",
    "sys.path.insert(0, module_path)"
   ]
  },
  {
   "cell_type": "code",
   "execution_count": 2,
   "id": "3f8c5ec2",
   "metadata": {},
   "outputs": [
    {
     "ename": "SyntaxError",
     "evalue": "trailing comma not allowed without surrounding parentheses (3420249138.py, line 6)",
     "output_type": "error",
     "traceback": [
      "  \u001b[36mCell\u001b[39m\u001b[36m \u001b[39m\u001b[32mIn[2]\u001b[39m\u001b[32m, line 6\u001b[39m\n\u001b[31m    \u001b[39m\u001b[31mfrom utils.multivariates import hadamard_product, hypercube_sum, bit_decomp_dict, matrix_multilinearize, vec_multilinearize,\u001b[39m\n                                                                                                                                ^\n\u001b[31mSyntaxError\u001b[39m\u001b[31m:\u001b[39m trailing comma not allowed without surrounding parentheses\n"
     ]
    }
   ],
   "source": [
    "from sage.matrix.all import Matrix\n",
    "from sage.rings.integer import Integer\n",
    "from sage.rings.polynomial.all import PolynomialRing, Polynomial\n",
    "from sage.modules.all import vector\n",
    "\n",
    "from utils.multivariates import hadamard_product, hypercube_sum, bit_decomp_dict, matrix_multilinearize, vec_multilinearize,\n",
    "from utils.test_utils import R1CS"
   ]
  },
  {
   "cell_type": "code",
   "execution_count": null,
   "id": "443ea1eb-3171-4f47-8066-53de9ae54bf9",
   "metadata": {},
   "outputs": [],
   "source": [
    "# Sample R1CS Instance. Taken from: https://emirsoyturk.medium.com/hello-arithmetization-55e57c8e5471\n",
    "\n",
    "AL = [\n",
    "     [0, 1, 0, 0, 0, 0],\n",
    "     [0, 0, 0, 1, 0, 0],\n",
    "     [0, 1, 0, 0, 1, 0],\n",
    "     [5, 0, 0, 0, 0, 1]\n",
    "    ]\n",
    "\n",
    "BL = [\n",
    "     [0, 1, 0, 0, 0, 0],\n",
    "     [0, 1, 0, 0, 0, 0],\n",
    "     [1, 0, 0, 0, 0, 0],\n",
    "     [1, 0, 0, 0, 0, 0]\n",
    "    ]\n",
    "\n",
    "CL = [\n",
    "     [0, 0, 0, 1, 0, 0],\n",
    "     [0, 0, 0, 0, 1, 0],\n",
    "     [0, 0, 0, 0, 0, 1],\n",
    "     [0, 0, 1, 0, 0, 0]\n",
    "    ]\n",
    "\n",
    "WL = [1, 3, 35, 9, 27, 30]"
   ]
  },
  {
   "cell_type": "code",
   "execution_count": null,
   "id": "6c34d5a7",
   "metadata": {},
   "outputs": [],
   "source": [
    "def compute_y_sum(poly, y_dim):\n",
    "    gens = poly.parent().gens()\n",
    "    skip_len = len(gens) - Integer(y_dim).bit_length()\n",
    "    assert skip_len >= 0\n",
    "\n",
    "    skip_vars = gens[:skip_len]\n",
    "    return hypercube_sum(poly, skip_vars)"
   ]
  },
  {
   "cell_type": "code",
   "execution_count": null,
   "id": "8837f666-82da-49d5-9b23-6c9c4a732fb2",
   "metadata": {},
   "outputs": [],
   "source": [
    "P = 15*(2**27) + 1;\n",
    "assert is_prime(P)\n",
    "Fp = GF(P)\n",
    "\n",
    "A = Matrix(Fp, AL)\n",
    "B = Matrix(Fp, BL)\n",
    "C = Matrix(Fp, CL)\n",
    "w = vector(Fp, WL);\n",
    "aw = A*w;\n",
    "bw = B*w;\n",
    "cw = C*w;\n",
    "\n",
    "# print(f\"W = {w}\")\n",
    "# print(f\"A*W = {aw}\")\n",
    "# print(f\"B*W = {bw}\")\n",
    "# print(f\"C*W = {cw}\")\n",
    "\n",
    "assert list(cw) == hadamard_product(aw, bw)"
   ]
  },
  {
   "cell_type": "code",
   "execution_count": null,
   "id": "497b4e73-82b7-4a45-99a9-af92332008a7",
   "metadata": {},
   "outputs": [],
   "source": [
    "Axy = matrix_multilinearize(A);\n",
    "Bxy = matrix_multilinearize(B, Axy.parent())\n",
    "Cxy = matrix_multilinearize(C, Axy.parent())\n",
    "\n",
    "xgens_count = Integer(A.nrows()).bit_length()\n",
    "xgens = Axy.parent().gens()[:xgens_count];\n",
    "ygens = Axy.parent().gens()[xgens_count:];\n",
    "\n",
    "Wy = vec_multilinearize(w, ygens)\n",
    "\n",
    "Ax = compute_y_sum(Axy*Wy, 6)\n",
    "Bx = compute_y_sum(Bxy*Wy, 6)\n",
    "Cx = compute_y_sum(Cxy*Wy, 6)\n",
    "\n",
    "expected = Ax*Bx - Cx\n",
    "\n",
    "for i in range(A.nrows()):\n",
    "    d = bit_decomp_dict(i, xgens)\n",
    "    e = expected.subs(d)\n",
    "    assert e == 0\n"
   ]
  }
 ],
 "metadata": {
  "kernelspec": {
   "display_name": "SageMath 10.6",
   "language": "sage",
   "name": "sagemath-10.6"
  },
  "language_info": {
   "codemirror_mode": {
    "name": "ipython",
    "version": 3
   },
   "file_extension": ".py",
   "mimetype": "text/x-python",
   "name": "python",
   "nbconvert_exporter": "python",
   "pygments_lexer": "ipython3",
   "version": "3.12.5"
  }
 },
 "nbformat": 4,
 "nbformat_minor": 5
}
